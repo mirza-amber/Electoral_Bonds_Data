{
 "cells": [
  {
   "cell_type": "code",
   "execution_count": 11,
   "metadata": {},
   "outputs": [],
   "source": [
    "import pandas as pd\n",
    "import numpy as np\n",
    "import seaborn as sns"
   ]
  },
  {
   "cell_type": "code",
   "execution_count": 12,
   "metadata": {},
   "outputs": [],
   "source": [
    "df = pd.read_csv('Redemption_Details.csv')"
   ]
  },
  {
   "cell_type": "code",
   "execution_count": 13,
   "metadata": {},
   "outputs": [
    {
     "data": {
      "text/html": [
       "<div>\n",
       "<style scoped>\n",
       "    .dataframe tbody tr th:only-of-type {\n",
       "        vertical-align: middle;\n",
       "    }\n",
       "\n",
       "    .dataframe tbody tr th {\n",
       "        vertical-align: top;\n",
       "    }\n",
       "\n",
       "    .dataframe thead th {\n",
       "        text-align: right;\n",
       "    }\n",
       "</style>\n",
       "<table border=\"1\" class=\"dataframe\">\n",
       "  <thead>\n",
       "    <tr style=\"text-align: right;\">\n",
       "      <th></th>\n",
       "      <th>Sr. No</th>\n",
       "      <th>Date of Encashment</th>\n",
       "      <th>Name of Political Party</th>\n",
       "      <th>Account Numbe of Political Party</th>\n",
       "      <th>Prefix</th>\n",
       "      <th>Bond Number</th>\n",
       "      <th>Denominations</th>\n",
       "      <th>Pay Branch Code</th>\n",
       "      <th>Pay Teller</th>\n",
       "    </tr>\n",
       "  </thead>\n",
       "  <tbody>\n",
       "    <tr>\n",
       "      <th>0</th>\n",
       "      <td>1.0</td>\n",
       "      <td>12-Apr-19</td>\n",
       "      <td>ALL INDIA ANNA DRAVIDA MUNNETRA KAZHAGAM</td>\n",
       "      <td>*******5199</td>\n",
       "      <td>OC</td>\n",
       "      <td>775.0</td>\n",
       "      <td>1,00,00,000</td>\n",
       "      <td>800.0</td>\n",
       "      <td>2770121.0</td>\n",
       "    </tr>\n",
       "    <tr>\n",
       "      <th>1</th>\n",
       "      <td>2.0</td>\n",
       "      <td>12-Apr-19</td>\n",
       "      <td>ALL INDIA ANNA DRAVIDA MUNNETRA KAZHAGAM</td>\n",
       "      <td>*******5199</td>\n",
       "      <td>OC</td>\n",
       "      <td>3975.0</td>\n",
       "      <td>1,00,00,000</td>\n",
       "      <td>800.0</td>\n",
       "      <td>2770121.0</td>\n",
       "    </tr>\n",
       "    <tr>\n",
       "      <th>2</th>\n",
       "      <td>3.0</td>\n",
       "      <td>12-Apr-19</td>\n",
       "      <td>ALL INDIA ANNA DRAVIDA MUNNETRA KAZHAGAM</td>\n",
       "      <td>*******5199</td>\n",
       "      <td>OC</td>\n",
       "      <td>3967.0</td>\n",
       "      <td>1,00,00,000</td>\n",
       "      <td>800.0</td>\n",
       "      <td>2770121.0</td>\n",
       "    </tr>\n",
       "    <tr>\n",
       "      <th>3</th>\n",
       "      <td>4.0</td>\n",
       "      <td>12-Apr-19</td>\n",
       "      <td>ALL INDIA ANNA DRAVIDA MUNNETRA KAZHAGAM</td>\n",
       "      <td>*******5199</td>\n",
       "      <td>TL</td>\n",
       "      <td>10418.0</td>\n",
       "      <td>10,00,000</td>\n",
       "      <td>800.0</td>\n",
       "      <td>2770121.0</td>\n",
       "    </tr>\n",
       "    <tr>\n",
       "      <th>4</th>\n",
       "      <td>5.0</td>\n",
       "      <td>12-Apr-19</td>\n",
       "      <td>ALL INDIA ANNA DRAVIDA MUNNETRA KAZHAGAM</td>\n",
       "      <td>*******5199</td>\n",
       "      <td>TL</td>\n",
       "      <td>126.0</td>\n",
       "      <td>10,00,000</td>\n",
       "      <td>800.0</td>\n",
       "      <td>2770121.0</td>\n",
       "    </tr>\n",
       "  </tbody>\n",
       "</table>\n",
       "</div>"
      ],
      "text/plain": [
       "   Sr. No Date of Encashment                   Name of Political Party  \\\n",
       "0     1.0          12-Apr-19  ALL INDIA ANNA DRAVIDA MUNNETRA KAZHAGAM   \n",
       "1     2.0          12-Apr-19  ALL INDIA ANNA DRAVIDA MUNNETRA KAZHAGAM   \n",
       "2     3.0          12-Apr-19  ALL INDIA ANNA DRAVIDA MUNNETRA KAZHAGAM   \n",
       "3     4.0          12-Apr-19  ALL INDIA ANNA DRAVIDA MUNNETRA KAZHAGAM   \n",
       "4     5.0          12-Apr-19  ALL INDIA ANNA DRAVIDA MUNNETRA KAZHAGAM   \n",
       "\n",
       "  Account Numbe of Political Party Prefix  Bond Number Denominations  \\\n",
       "0                      *******5199     OC        775.0   1,00,00,000   \n",
       "1                      *******5199     OC       3975.0   1,00,00,000   \n",
       "2                      *******5199     OC       3967.0   1,00,00,000   \n",
       "3                      *******5199     TL      10418.0     10,00,000   \n",
       "4                      *******5199     TL        126.0     10,00,000   \n",
       "\n",
       "   Pay Branch Code  Pay Teller  \n",
       "0            800.0   2770121.0  \n",
       "1            800.0   2770121.0  \n",
       "2            800.0   2770121.0  \n",
       "3            800.0   2770121.0  \n",
       "4            800.0   2770121.0  "
      ]
     },
     "execution_count": 13,
     "metadata": {},
     "output_type": "execute_result"
    }
   ],
   "source": [
    "df.head(5)"
   ]
  },
  {
   "cell_type": "code",
   "execution_count": 14,
   "metadata": {},
   "outputs": [
    {
     "data": {
      "text/plain": [
       "Sr. No                              float64\n",
       "Date of Encashment                   object\n",
       "Name of Political Party              object\n",
       "Account Numbe of Political Party     object\n",
       "Prefix                               object\n",
       "Bond Number                         float64\n",
       "Denominations                        object\n",
       "Pay Branch Code                     float64\n",
       "Pay Teller                          float64\n",
       "dtype: object"
      ]
     },
     "execution_count": 14,
     "metadata": {},
     "output_type": "execute_result"
    }
   ],
   "source": [
    "df.dtypes"
   ]
  },
  {
   "cell_type": "code",
   "execution_count": 15,
   "metadata": {},
   "outputs": [],
   "source": [
    "df.drop('Sr. No', axis=1, inplace=True)"
   ]
  },
  {
   "cell_type": "code",
   "execution_count": 16,
   "metadata": {},
   "outputs": [
    {
     "data": {
      "text/html": [
       "<div>\n",
       "<style scoped>\n",
       "    .dataframe tbody tr th:only-of-type {\n",
       "        vertical-align: middle;\n",
       "    }\n",
       "\n",
       "    .dataframe tbody tr th {\n",
       "        vertical-align: top;\n",
       "    }\n",
       "\n",
       "    .dataframe thead th {\n",
       "        text-align: right;\n",
       "    }\n",
       "</style>\n",
       "<table border=\"1\" class=\"dataframe\">\n",
       "  <thead>\n",
       "    <tr style=\"text-align: right;\">\n",
       "      <th></th>\n",
       "      <th>Date of Encashment</th>\n",
       "      <th>Name of Political Party</th>\n",
       "      <th>Account Numbe of Political Party</th>\n",
       "      <th>Prefix</th>\n",
       "      <th>Bond Number</th>\n",
       "      <th>Denominations</th>\n",
       "      <th>Pay Branch Code</th>\n",
       "      <th>Pay Teller</th>\n",
       "    </tr>\n",
       "  </thead>\n",
       "  <tbody>\n",
       "    <tr>\n",
       "      <th>0</th>\n",
       "      <td>12-Apr-19</td>\n",
       "      <td>ALL INDIA ANNA DRAVIDA MUNNETRA KAZHAGAM</td>\n",
       "      <td>*******5199</td>\n",
       "      <td>OC</td>\n",
       "      <td>775.0</td>\n",
       "      <td>1,00,00,000</td>\n",
       "      <td>800.0</td>\n",
       "      <td>2770121.0</td>\n",
       "    </tr>\n",
       "    <tr>\n",
       "      <th>1</th>\n",
       "      <td>12-Apr-19</td>\n",
       "      <td>ALL INDIA ANNA DRAVIDA MUNNETRA KAZHAGAM</td>\n",
       "      <td>*******5199</td>\n",
       "      <td>OC</td>\n",
       "      <td>3975.0</td>\n",
       "      <td>1,00,00,000</td>\n",
       "      <td>800.0</td>\n",
       "      <td>2770121.0</td>\n",
       "    </tr>\n",
       "    <tr>\n",
       "      <th>2</th>\n",
       "      <td>12-Apr-19</td>\n",
       "      <td>ALL INDIA ANNA DRAVIDA MUNNETRA KAZHAGAM</td>\n",
       "      <td>*******5199</td>\n",
       "      <td>OC</td>\n",
       "      <td>3967.0</td>\n",
       "      <td>1,00,00,000</td>\n",
       "      <td>800.0</td>\n",
       "      <td>2770121.0</td>\n",
       "    </tr>\n",
       "    <tr>\n",
       "      <th>3</th>\n",
       "      <td>12-Apr-19</td>\n",
       "      <td>ALL INDIA ANNA DRAVIDA MUNNETRA KAZHAGAM</td>\n",
       "      <td>*******5199</td>\n",
       "      <td>TL</td>\n",
       "      <td>10418.0</td>\n",
       "      <td>10,00,000</td>\n",
       "      <td>800.0</td>\n",
       "      <td>2770121.0</td>\n",
       "    </tr>\n",
       "    <tr>\n",
       "      <th>4</th>\n",
       "      <td>12-Apr-19</td>\n",
       "      <td>ALL INDIA ANNA DRAVIDA MUNNETRA KAZHAGAM</td>\n",
       "      <td>*******5199</td>\n",
       "      <td>TL</td>\n",
       "      <td>126.0</td>\n",
       "      <td>10,00,000</td>\n",
       "      <td>800.0</td>\n",
       "      <td>2770121.0</td>\n",
       "    </tr>\n",
       "  </tbody>\n",
       "</table>\n",
       "</div>"
      ],
      "text/plain": [
       "  Date of Encashment                   Name of Political Party  \\\n",
       "0          12-Apr-19  ALL INDIA ANNA DRAVIDA MUNNETRA KAZHAGAM   \n",
       "1          12-Apr-19  ALL INDIA ANNA DRAVIDA MUNNETRA KAZHAGAM   \n",
       "2          12-Apr-19  ALL INDIA ANNA DRAVIDA MUNNETRA KAZHAGAM   \n",
       "3          12-Apr-19  ALL INDIA ANNA DRAVIDA MUNNETRA KAZHAGAM   \n",
       "4          12-Apr-19  ALL INDIA ANNA DRAVIDA MUNNETRA KAZHAGAM   \n",
       "\n",
       "  Account Numbe of Political Party Prefix  Bond Number Denominations  \\\n",
       "0                      *******5199     OC        775.0   1,00,00,000   \n",
       "1                      *******5199     OC       3975.0   1,00,00,000   \n",
       "2                      *******5199     OC       3967.0   1,00,00,000   \n",
       "3                      *******5199     TL      10418.0     10,00,000   \n",
       "4                      *******5199     TL        126.0     10,00,000   \n",
       "\n",
       "   Pay Branch Code  Pay Teller  \n",
       "0            800.0   2770121.0  \n",
       "1            800.0   2770121.0  \n",
       "2            800.0   2770121.0  \n",
       "3            800.0   2770121.0  \n",
       "4            800.0   2770121.0  "
      ]
     },
     "execution_count": 16,
     "metadata": {},
     "output_type": "execute_result"
    }
   ],
   "source": [
    "df.head()"
   ]
  },
  {
   "cell_type": "code",
   "execution_count": 18,
   "metadata": {},
   "outputs": [],
   "source": [
    "df.dropna(inplace=True)"
   ]
  },
  {
   "cell_type": "code",
   "execution_count": 25,
   "metadata": {},
   "outputs": [],
   "source": [
    "df['Bond Number'] = df['Bond Number'].astype(int)"
   ]
  },
  {
   "cell_type": "code",
   "execution_count": 51,
   "metadata": {},
   "outputs": [
    {
     "data": {
      "text/plain": [
       "Date of Encashment                   datetime64[ns]\n",
       "Name of Political Party                      object\n",
       "Account Number of Political Party            object\n",
       "Prefix                                       object\n",
       "Bond Number                                   int32\n",
       "Denominations                                 int32\n",
       "Pay Branch Code                             float64\n",
       "Pay Teller                                  float64\n",
       "dtype: object"
      ]
     },
     "execution_count": 51,
     "metadata": {},
     "output_type": "execute_result"
    }
   ],
   "source": [
    "df.dtypes"
   ]
  },
  {
   "cell_type": "code",
   "execution_count": 27,
   "metadata": {},
   "outputs": [],
   "source": [
    "df.drop('Bond Numnber', axis=1, inplace=True)"
   ]
  },
  {
   "cell_type": "code",
   "execution_count": 42,
   "metadata": {},
   "outputs": [],
   "source": [
    "df['Date of Encashment']=pd.to_datetime(df['Date of Encashment'],format= '%d-%b-%y')"
   ]
  },
  {
   "cell_type": "code",
   "execution_count": 50,
   "metadata": {},
   "outputs": [
    {
     "data": {
      "text/plain": [
       "Date of Encashment                   datetime64[ns]\n",
       "Name of Political Party                      object\n",
       "Account Number of Political Party            object\n",
       "Prefix                                       object\n",
       "Bond Number                                   int32\n",
       "Denominations                                 int32\n",
       "Pay Branch Code                             float64\n",
       "Pay Teller                                  float64\n",
       "dtype: object"
      ]
     },
     "execution_count": 50,
     "metadata": {},
     "output_type": "execute_result"
    }
   ],
   "source": [
    "df.dtypes"
   ]
  },
  {
   "cell_type": "code",
   "execution_count": 44,
   "metadata": {},
   "outputs": [],
   "source": [
    "df.rename(columns={'Account Numbe of Political Party': 'Account Number of Political Party'}, inplace=True)"
   ]
  },
  {
   "cell_type": "code",
   "execution_count": 45,
   "metadata": {},
   "outputs": [
    {
     "data": {
      "text/html": [
       "<div>\n",
       "<style scoped>\n",
       "    .dataframe tbody tr th:only-of-type {\n",
       "        vertical-align: middle;\n",
       "    }\n",
       "\n",
       "    .dataframe tbody tr th {\n",
       "        vertical-align: top;\n",
       "    }\n",
       "\n",
       "    .dataframe thead th {\n",
       "        text-align: right;\n",
       "    }\n",
       "</style>\n",
       "<table border=\"1\" class=\"dataframe\">\n",
       "  <thead>\n",
       "    <tr style=\"text-align: right;\">\n",
       "      <th></th>\n",
       "      <th>Date of Encashment</th>\n",
       "      <th>Name of Political Party</th>\n",
       "      <th>Account Number of Political Party</th>\n",
       "      <th>Prefix</th>\n",
       "      <th>Bond Number</th>\n",
       "      <th>Denominations</th>\n",
       "      <th>Pay Branch Code</th>\n",
       "      <th>Pay Teller</th>\n",
       "    </tr>\n",
       "  </thead>\n",
       "  <tbody>\n",
       "    <tr>\n",
       "      <th>0</th>\n",
       "      <td>2019-04-12</td>\n",
       "      <td>ALL INDIA ANNA DRAVIDA MUNNETRA KAZHAGAM</td>\n",
       "      <td>*******5199</td>\n",
       "      <td>OC</td>\n",
       "      <td>775</td>\n",
       "      <td>1,00,00,000</td>\n",
       "      <td>800.0</td>\n",
       "      <td>2770121.0</td>\n",
       "    </tr>\n",
       "    <tr>\n",
       "      <th>1</th>\n",
       "      <td>2019-04-12</td>\n",
       "      <td>ALL INDIA ANNA DRAVIDA MUNNETRA KAZHAGAM</td>\n",
       "      <td>*******5199</td>\n",
       "      <td>OC</td>\n",
       "      <td>3975</td>\n",
       "      <td>1,00,00,000</td>\n",
       "      <td>800.0</td>\n",
       "      <td>2770121.0</td>\n",
       "    </tr>\n",
       "    <tr>\n",
       "      <th>2</th>\n",
       "      <td>2019-04-12</td>\n",
       "      <td>ALL INDIA ANNA DRAVIDA MUNNETRA KAZHAGAM</td>\n",
       "      <td>*******5199</td>\n",
       "      <td>OC</td>\n",
       "      <td>3967</td>\n",
       "      <td>1,00,00,000</td>\n",
       "      <td>800.0</td>\n",
       "      <td>2770121.0</td>\n",
       "    </tr>\n",
       "    <tr>\n",
       "      <th>3</th>\n",
       "      <td>2019-04-12</td>\n",
       "      <td>ALL INDIA ANNA DRAVIDA MUNNETRA KAZHAGAM</td>\n",
       "      <td>*******5199</td>\n",
       "      <td>TL</td>\n",
       "      <td>10418</td>\n",
       "      <td>10,00,000</td>\n",
       "      <td>800.0</td>\n",
       "      <td>2770121.0</td>\n",
       "    </tr>\n",
       "    <tr>\n",
       "      <th>4</th>\n",
       "      <td>2019-04-12</td>\n",
       "      <td>ALL INDIA ANNA DRAVIDA MUNNETRA KAZHAGAM</td>\n",
       "      <td>*******5199</td>\n",
       "      <td>TL</td>\n",
       "      <td>126</td>\n",
       "      <td>10,00,000</td>\n",
       "      <td>800.0</td>\n",
       "      <td>2770121.0</td>\n",
       "    </tr>\n",
       "  </tbody>\n",
       "</table>\n",
       "</div>"
      ],
      "text/plain": [
       "  Date of Encashment                   Name of Political Party  \\\n",
       "0         2019-04-12  ALL INDIA ANNA DRAVIDA MUNNETRA KAZHAGAM   \n",
       "1         2019-04-12  ALL INDIA ANNA DRAVIDA MUNNETRA KAZHAGAM   \n",
       "2         2019-04-12  ALL INDIA ANNA DRAVIDA MUNNETRA KAZHAGAM   \n",
       "3         2019-04-12  ALL INDIA ANNA DRAVIDA MUNNETRA KAZHAGAM   \n",
       "4         2019-04-12  ALL INDIA ANNA DRAVIDA MUNNETRA KAZHAGAM   \n",
       "\n",
       "  Account Number of Political Party Prefix  Bond Number Denominations  \\\n",
       "0                       *******5199     OC          775   1,00,00,000   \n",
       "1                       *******5199     OC         3975   1,00,00,000   \n",
       "2                       *******5199     OC         3967   1,00,00,000   \n",
       "3                       *******5199     TL        10418     10,00,000   \n",
       "4                       *******5199     TL          126     10,00,000   \n",
       "\n",
       "   Pay Branch Code  Pay Teller  \n",
       "0            800.0   2770121.0  \n",
       "1            800.0   2770121.0  \n",
       "2            800.0   2770121.0  \n",
       "3            800.0   2770121.0  \n",
       "4            800.0   2770121.0  "
      ]
     },
     "execution_count": 45,
     "metadata": {},
     "output_type": "execute_result"
    }
   ],
   "source": [
    "df.head()"
   ]
  },
  {
   "cell_type": "code",
   "execution_count": 47,
   "metadata": {},
   "outputs": [],
   "source": [
    "df['Denominations'] = df['Denominations'].str.replace(',','').astype(int)"
   ]
  },
  {
   "cell_type": "code",
   "execution_count": 48,
   "metadata": {},
   "outputs": [
    {
     "data": {
      "text/html": [
       "<div>\n",
       "<style scoped>\n",
       "    .dataframe tbody tr th:only-of-type {\n",
       "        vertical-align: middle;\n",
       "    }\n",
       "\n",
       "    .dataframe tbody tr th {\n",
       "        vertical-align: top;\n",
       "    }\n",
       "\n",
       "    .dataframe thead th {\n",
       "        text-align: right;\n",
       "    }\n",
       "</style>\n",
       "<table border=\"1\" class=\"dataframe\">\n",
       "  <thead>\n",
       "    <tr style=\"text-align: right;\">\n",
       "      <th></th>\n",
       "      <th>Date of Encashment</th>\n",
       "      <th>Name of Political Party</th>\n",
       "      <th>Account Number of Political Party</th>\n",
       "      <th>Prefix</th>\n",
       "      <th>Bond Number</th>\n",
       "      <th>Denominations</th>\n",
       "      <th>Pay Branch Code</th>\n",
       "      <th>Pay Teller</th>\n",
       "    </tr>\n",
       "  </thead>\n",
       "  <tbody>\n",
       "    <tr>\n",
       "      <th>0</th>\n",
       "      <td>2019-04-12</td>\n",
       "      <td>ALL INDIA ANNA DRAVIDA MUNNETRA KAZHAGAM</td>\n",
       "      <td>*******5199</td>\n",
       "      <td>OC</td>\n",
       "      <td>775</td>\n",
       "      <td>10000000</td>\n",
       "      <td>800.0</td>\n",
       "      <td>2770121.0</td>\n",
       "    </tr>\n",
       "    <tr>\n",
       "      <th>1</th>\n",
       "      <td>2019-04-12</td>\n",
       "      <td>ALL INDIA ANNA DRAVIDA MUNNETRA KAZHAGAM</td>\n",
       "      <td>*******5199</td>\n",
       "      <td>OC</td>\n",
       "      <td>3975</td>\n",
       "      <td>10000000</td>\n",
       "      <td>800.0</td>\n",
       "      <td>2770121.0</td>\n",
       "    </tr>\n",
       "    <tr>\n",
       "      <th>2</th>\n",
       "      <td>2019-04-12</td>\n",
       "      <td>ALL INDIA ANNA DRAVIDA MUNNETRA KAZHAGAM</td>\n",
       "      <td>*******5199</td>\n",
       "      <td>OC</td>\n",
       "      <td>3967</td>\n",
       "      <td>10000000</td>\n",
       "      <td>800.0</td>\n",
       "      <td>2770121.0</td>\n",
       "    </tr>\n",
       "    <tr>\n",
       "      <th>3</th>\n",
       "      <td>2019-04-12</td>\n",
       "      <td>ALL INDIA ANNA DRAVIDA MUNNETRA KAZHAGAM</td>\n",
       "      <td>*******5199</td>\n",
       "      <td>TL</td>\n",
       "      <td>10418</td>\n",
       "      <td>1000000</td>\n",
       "      <td>800.0</td>\n",
       "      <td>2770121.0</td>\n",
       "    </tr>\n",
       "    <tr>\n",
       "      <th>4</th>\n",
       "      <td>2019-04-12</td>\n",
       "      <td>ALL INDIA ANNA DRAVIDA MUNNETRA KAZHAGAM</td>\n",
       "      <td>*******5199</td>\n",
       "      <td>TL</td>\n",
       "      <td>126</td>\n",
       "      <td>1000000</td>\n",
       "      <td>800.0</td>\n",
       "      <td>2770121.0</td>\n",
       "    </tr>\n",
       "  </tbody>\n",
       "</table>\n",
       "</div>"
      ],
      "text/plain": [
       "  Date of Encashment                   Name of Political Party  \\\n",
       "0         2019-04-12  ALL INDIA ANNA DRAVIDA MUNNETRA KAZHAGAM   \n",
       "1         2019-04-12  ALL INDIA ANNA DRAVIDA MUNNETRA KAZHAGAM   \n",
       "2         2019-04-12  ALL INDIA ANNA DRAVIDA MUNNETRA KAZHAGAM   \n",
       "3         2019-04-12  ALL INDIA ANNA DRAVIDA MUNNETRA KAZHAGAM   \n",
       "4         2019-04-12  ALL INDIA ANNA DRAVIDA MUNNETRA KAZHAGAM   \n",
       "\n",
       "  Account Number of Political Party Prefix  Bond Number  Denominations  \\\n",
       "0                       *******5199     OC          775       10000000   \n",
       "1                       *******5199     OC         3975       10000000   \n",
       "2                       *******5199     OC         3967       10000000   \n",
       "3                       *******5199     TL        10418        1000000   \n",
       "4                       *******5199     TL          126        1000000   \n",
       "\n",
       "   Pay Branch Code  Pay Teller  \n",
       "0            800.0   2770121.0  \n",
       "1            800.0   2770121.0  \n",
       "2            800.0   2770121.0  \n",
       "3            800.0   2770121.0  \n",
       "4            800.0   2770121.0  "
      ]
     },
     "execution_count": 48,
     "metadata": {},
     "output_type": "execute_result"
    }
   ],
   "source": [
    "df.head(5)"
   ]
  },
  {
   "cell_type": "code",
   "execution_count": 53,
   "metadata": {},
   "outputs": [],
   "source": [
    "df['Pay Branch Code'] = df['Pay Branch Code'].astype(int)\n",
    "df['Pay Teller'] = df['Pay Teller'].astype(int)"
   ]
  },
  {
   "cell_type": "code",
   "execution_count": 54,
   "metadata": {},
   "outputs": [
    {
     "data": {
      "text/plain": [
       "Date of Encashment                   datetime64[ns]\n",
       "Name of Political Party                      object\n",
       "Account Number of Political Party            object\n",
       "Prefix                                       object\n",
       "Bond Number                                   int32\n",
       "Denominations                                 int32\n",
       "Pay Branch Code                               int32\n",
       "Pay Teller                                    int32\n",
       "dtype: object"
      ]
     },
     "execution_count": 54,
     "metadata": {},
     "output_type": "execute_result"
    }
   ],
   "source": [
    "df.dtypes"
   ]
  },
  {
   "cell_type": "code",
   "execution_count": 56,
   "metadata": {},
   "outputs": [],
   "source": [
    "df.to_csv('Refined_Redemption.csv', index=False)"
   ]
  },
  {
   "cell_type": "code",
   "execution_count": null,
   "metadata": {},
   "outputs": [],
   "source": []
  },
  {
   "cell_type": "code",
   "execution_count": null,
   "metadata": {},
   "outputs": [],
   "source": []
  },
  {
   "cell_type": "code",
   "execution_count": null,
   "metadata": {},
   "outputs": [],
   "source": []
  },
  {
   "cell_type": "code",
   "execution_count": null,
   "metadata": {},
   "outputs": [],
   "source": []
  },
  {
   "cell_type": "code",
   "execution_count": null,
   "metadata": {},
   "outputs": [],
   "source": []
  },
  {
   "cell_type": "code",
   "execution_count": null,
   "metadata": {},
   "outputs": [],
   "source": []
  },
  {
   "cell_type": "code",
   "execution_count": null,
   "metadata": {},
   "outputs": [],
   "source": []
  },
  {
   "cell_type": "code",
   "execution_count": null,
   "metadata": {},
   "outputs": [],
   "source": []
  },
  {
   "cell_type": "code",
   "execution_count": null,
   "metadata": {},
   "outputs": [],
   "source": []
  }
 ],
 "metadata": {
  "kernelspec": {
   "display_name": "Python 3",
   "language": "python",
   "name": "python3"
  },
  "language_info": {
   "codemirror_mode": {
    "name": "ipython",
    "version": 3
   },
   "file_extension": ".py",
   "mimetype": "text/x-python",
   "name": "python",
   "nbconvert_exporter": "python",
   "pygments_lexer": "ipython3",
   "version": "3.12.2"
  }
 },
 "nbformat": 4,
 "nbformat_minor": 2
}
